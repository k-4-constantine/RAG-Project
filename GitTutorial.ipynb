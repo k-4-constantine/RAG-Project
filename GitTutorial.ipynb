{
 "cells": [
  {
   "cell_type": "markdown",
   "id": "f3f323a2",
   "metadata": {},
   "source": [
    "# Start"
   ]
  },
  {
   "cell_type": "markdown",
   "id": "db94462d",
   "metadata": {},
   "source": [
    "Distributed Version Control System:\n",
    "\n",
    "People can all view different versions without worrying the central server malfunctions. "
   ]
  },
  {
   "cell_type": "markdown",
   "id": "8e52f8fb",
   "metadata": {},
   "source": [
    "Unlike other version control: delta-based, which records difference. \n",
    "\n",
    "Git takes snapshots of all versions. Git hardly deletes data, but only adds. One commit one snapshot. "
   ]
  },
  {
   "cell_type": "markdown",
   "id": "adc19467",
   "metadata": {},
   "source": [
    "# Git Fundamentals"
   ]
  },
  {
   "cell_type": "markdown",
   "id": "c4c0ef92",
   "metadata": {},
   "source": [
    "## Obtain Git Repository"
   ]
  },
  {
   "cell_type": "markdown",
   "id": "90f965ac",
   "metadata": {},
   "source": [
    "1. Change a local location into a Git repository (windows):\n",
    "\n",
    "    cd /c/user/my_project\n",
    "    git init\n",
    "\n",
    "2. Clone an existing Git repository\n",
    "\n",
    "    git clone https://github.com/repository-name alias\n"
   ]
  },
  {
   "cell_type": "markdown",
   "id": "c7f626cb",
   "metadata": {},
   "source": [
    "## Update Repository"
   ]
  },
  {
   "cell_type": "markdown",
   "id": "cd3c793e",
   "metadata": {},
   "source": [
    "4 status: Untracked, Unmodified, Modified, Staged. "
   ]
  },
  {
   "cell_type": "markdown",
   "id": "d0605a86",
   "metadata": {},
   "source": [
    ".gitignore file defines files that don't need to be pushed. "
   ]
  },
  {
   "cell_type": "markdown",
   "id": "925eb4f9",
   "metadata": {},
   "source": [
    "    # 忽略所有的 .a 文件\n",
    "    *.a\n",
    "\n",
    "    # 但跟踪所有的 lib.a，即便你在前面忽略了 .a 文件\n",
    "    !lib.a\n",
    "\n",
    "    # 只忽略当前目录下的 TODO 文件，而不忽略 subdir/TODO\n",
    "    /TODO\n",
    "\n",
    "    # 忽略任何目录下名为 build 的文件夹\n",
    "    build/\n",
    "\n",
    "    # 忽略 doc/notes.txt，但不忽略 doc/server/arch.txt\n",
    "    doc/*.txt\n",
    "\n",
    "    # 忽略 doc/ 目录及其所有子目录下的 .pdf 文件\n",
    "    doc/**/*.pdf"
   ]
  },
  {
   "cell_type": "markdown",
   "id": "2f149564",
   "metadata": {},
   "source": [
    "## Log History"
   ]
  },
  {
   "cell_type": "markdown",
   "id": "513c00d2",
   "metadata": {},
   "source": [
    "    $ git log --pretty=format:\"%h - %an, %ar : %s\"\n",
    "    ca82a6d - Scott Chacon, 6 years ago : changed the version number\n",
    "    085bb3b - Scott Chacon, 6 years ago : removed unnecessary test\n",
    "    a11bef0 - Scott Chacon, 6 years ago : first commit"
   ]
  },
  {
   "cell_type": "markdown",
   "id": "2562480b",
   "metadata": {},
   "source": [
    "Junio Hamano 在 2008 年 10 月其间， 除了合并提交之外的哪一个提交修改了测试文件"
   ]
  },
  {
   "cell_type": "markdown",
   "id": "533ceea8",
   "metadata": {},
   "source": [
    "    $ git log --pretty=\"%h - %s\" --author='Junio C Hamano' --since=\"2008-10-01\" \\\n",
    "    --before=\"2008-11-01\" --no-merges -- t/\n",
    "    5610e3b - Fix testcase failure when extended attributes are in use\n",
    "    acd3b9e - Enhance hold_lock_file_for_{update,append}() API\n",
    "    f563754 - demonstrate breakage of detached checkout with symbolic link HEAD\n",
    "    d1a43f2 - reset --hard/read-tree --reset -u: remove unmerged new paths\n",
    "    51a94af - Fix \"checkout --track -b newbranch\" on detached HEAD\n",
    "    b0ad11e - pull: allow \"git pull origin $something:$current_branch\" into an unborn branch  "
   ]
  },
  {
   "cell_type": "markdown",
   "id": "10c0e7aa",
   "metadata": {},
   "source": [
    "## Revoke"
   ]
  },
  {
   "cell_type": "markdown",
   "id": "c17a5f7a",
   "metadata": {},
   "source": [
    "    $ git commit -m 'initial commit'\n",
    "    $ git add forgotten_file\n",
    "    $ git commit --amend\n",
    "    \n",
    "In this case there will only be the second commit. \n",
    "\n",
    "    git checkout -- <file>\n",
    "\n",
    "Will recover the file from last commit. "
   ]
  },
  {
   "cell_type": "markdown",
   "id": "cda1b071",
   "metadata": {},
   "source": [
    "## Remote Repository"
   ]
  },
  {
   "cell_type": "markdown",
   "id": "21765857",
   "metadata": {},
   "source": [
    "There can be multiple. Push automatically goes to the original one. \n",
    "\n",
    "To add a new one:\n",
    "\n",
    "    git remote add <shortname> <url> \n",
    "\n",
    "To get whatever this current repository doesn't have that the other repository does:\n",
    "\n",
    "    git fetch <remote>"
   ]
  },
  {
   "cell_type": "markdown",
   "id": "04c65730",
   "metadata": {},
   "source": [
    "## Tag"
   ]
  },
  {
   "cell_type": "markdown",
   "id": "d735bfae",
   "metadata": {},
   "source": [
    "2 types of tag: lightweight and annotated. \n",
    "\n",
    "Annotated:\n",
    "\n",
    "    git tag -a v1.4 -m \"my version 1.4\"\n",
    "\n",
    "Lightweight:\n",
    "\n",
    "    git tag v1.4\n",
    "\n",
    "If one forgets to tag a previous version:\n",
    "\n",
    "    git tag -a v1.2 9fceb02\n",
    "\n",
    "The version to be added can be found:\n",
    "\n",
    "    git log --pretty=oneline\n",
    "\n",
    "It's not necessary to always include the full version name"
   ]
  },
  {
   "cell_type": "markdown",
   "id": "99c5fed4",
   "metadata": {},
   "source": [
    "Tag names will not be pushed to remote repository. Use:\n",
    "\n",
    "    git push origin v1.5\n",
    "\n",
    "Or more tags at the same time:\n",
    "\n",
    "    git push origin --tags"
   ]
  },
  {
   "cell_type": "markdown",
   "id": "6decdf43",
   "metadata": {},
   "source": [
    "To delete tags:\n",
    "\n",
    "    git push origin --delete <tagname>"
   ]
  },
  {
   "cell_type": "markdown",
   "id": "20605de9",
   "metadata": {},
   "source": [
    "# Branching"
   ]
  },
  {
   "cell_type": "markdown",
   "id": "5da10152",
   "metadata": {},
   "source": [
    "Multi-verse. Each universe doesn't affect others. To create (not automatically swtich):\n",
    "\n",
    "    git branch <branch_name>\n",
    "\n",
    "To switch:\n",
    "\n",
    "    git switch <branch_name>\n",
    "\n",
    "To create and switch:\n",
    "\n",
    "    git checkout -b <branch_name>\n",
    "\n",
    "After that we do the same. Save, commit, push. It doesn't affect other branches. "
   ]
  },
  {
   "cell_type": "markdown",
   "id": "5abeac7f",
   "metadata": {},
   "source": [
    "To merge, first switch to the main file, and then merge. \n",
    "\n",
    "    git merge <branch_name>\n",
    "\n",
    "Then delete (the history is still stored):\n",
    "\n",
    "    git branch -d <branch_name>"
   ]
  },
  {
   "cell_type": "markdown",
   "id": "36a17fa8",
   "metadata": {},
   "source": [
    "When there's a conflict, it's usually due to the change of the same file. \n",
    "1. Check conflict file\n",
    "2. Manual edit and solve conflict. Difference will be shown\n",
    "3. Add to stage\n",
    "4. Push"
   ]
  },
  {
   "cell_type": "markdown",
   "id": "1cbb15fe",
   "metadata": {},
   "source": [
    "Some principles:\n",
    "\n",
    "    feature: new feature\n",
    "    bugfix: solve bugs\n",
    "    hotfix: emergency repair\n",
    "\n",
    "Constantly synchronize. \n",
    "\n",
    "Use the following to check history:\n",
    "\n",
    "    git log --oneline --decorate --graph --all "
   ]
  },
  {
   "cell_type": "markdown",
   "id": "0c3e7c56",
   "metadata": {},
   "source": [
    "Check which branch has already been merged:\n",
    "\n",
    "    $ git branch --merged\n",
    "    iss53\n",
    "    * master"
   ]
  },
  {
   "cell_type": "markdown",
   "id": "ee6d513e",
   "metadata": {},
   "source": [
    "## Remote Branching"
   ]
  },
  {
   "cell_type": "markdown",
   "id": "1432897a",
   "metadata": {},
   "source": [
    "There could be branches on the cloud side. Those branches cannot be simply switched to. Use\n",
    "\n",
    "    git branch -r\n",
    "\n",
    "to check. The result can be:\n",
    "\n",
    "    origin/main\n",
    "    origin/feature-login\n",
    "\n",
    "To switch to the second:\n",
    "\n",
    "    git checkout -b feature-login origin/feature-login\n",
    "\n",
    "git push doesn't apply to all remotes, only to designated ones. \n",
    "\n",
    "    git push <remote> <branch>"
   ]
  },
  {
   "cell_type": "markdown",
   "id": "eb0641b2",
   "metadata": {},
   "source": [
    "## Rebase"
   ]
  },
  {
   "cell_type": "markdown",
   "id": "f51a98d1",
   "metadata": {},
   "source": [
    "Change a tree into a stick. \n",
    "\n",
    "    $ git checkout experiment\n",
    "    $ git rebase master"
   ]
  },
  {
   "cell_type": "markdown",
   "id": "f946bf11",
   "metadata": {},
   "source": [
    "    master:  C1 --- C2 --- C3\n",
    "                    \\\n",
    "    experiment:        C4\n",
    "\n",
    "\n",
    "    git checkout experiment\n",
    "    git rebase master\n",
    "\n",
    "    master:    C1 --- C2 --- C3\n",
    "                                \\\n",
    "    experiment:                   C4'   (现在 experiment 基于 C3)\n",
    "\n",
    "\n",
    "    git checkout master\n",
    "    git merge experiment   # 会是 fast-forward，master -> C4'\n",
    "\n",
    "    master: C1 --- C2 --- C3 --- C4' \n"
   ]
  },
  {
   "cell_type": "markdown",
   "id": "ed2a57e2",
   "metadata": {},
   "source": [
    "Theoretically C4' is identical with the result of merge. "
   ]
  },
  {
   "cell_type": "markdown",
   "id": "92200370",
   "metadata": {},
   "source": [
    "**Interactive Rebase**\n",
    "\n",
    "    git checkout feature\n",
    "    git rebase -i master\n",
    "\n",
    "The output:\n",
    "\n",
    "    pick a1b2c3 fix typo\n",
    "    pick d4e5f6 add tests\n",
    "    pick 9a0b1c refactor method\n",
    "\n",
    "Change pick to:\n",
    "\n",
    "squash: That specific commit will be combined with the previous commit\n",
    "drop: That specific commit will be dropped\n"
   ]
  },
  {
   "cell_type": "markdown",
   "id": "3d1de0e6",
   "metadata": {},
   "source": [
    "    $ git rebase --onto master server client\n",
    "\n",
    "It means take client branch, find the patch after server, and put it on master. Then:\n",
    "\n",
    "    $ git checkout master\n",
    "    $ git merge client"
   ]
  },
  {
   "cell_type": "markdown",
   "id": "d98cfc30",
   "metadata": {},
   "source": [
    "# Protocol"
   ]
  },
  {
   "cell_type": "markdown",
   "id": "b340fc5f",
   "metadata": {},
   "source": [
    "To avoid push and pull, build a mutual storage everyone can access: a Git server. There needs to be protocols. \n",
    "\n",
    "1. Local protocol\n",
    "\n",
    "A shared document folder. Everything will be local. \n",
    "\n",
    "2. HTTP\n",
    "\n",
    "3. Secure Shell\n",
    "\n",
    "4. Git"
   ]
  },
  {
   "cell_type": "markdown",
   "id": "714941f3",
   "metadata": {},
   "source": [
    "# Distributed Git"
   ]
  },
  {
   "cell_type": "markdown",
   "id": "85d83098",
   "metadata": {},
   "source": [
    "**Two Developers**\n",
    "\n",
    "There are two repository for everyone, one local (master) and one remote (origin/master). Two people each clone the main repository to their local folder, hence the local master. \n",
    "\n",
    "Jessica committed a change and pushed it from master to origin/master. Now origin/master is the same as Jessica's master. Now John tries to commit and push but fails. So he needs to fetch origin, and get what Jessica did. This changes the origin/master of John. Note that John's origin/master will not change because of Jessica's push. Because John's origin/master is still the status of last fetch or clone. It doesn't change itself. \n",
    "\n",
    "After that, John merge origin/master and absorb the change onto his master. In order to update John's change, he then needs to push origin master. \n",
    "\n",
    "Meanwhile, Jessica made 3 commits in her new branch issue54. She learnt that John pushed some work, so she fetch origin. To check what needs to be merged, she calls:\n",
    "\n",
    "    git log --no-merges issue54..origin/master\n",
    "\n",
    "Then she goes back to her master, either first merges newly fetched origin/master or issue54. Eventually she pushes the final master: \n",
    "\n",
    "    git push origin master\n",
    "\n",
    "Difference between **fetch** and **pull**: \n",
    "\n",
    "pull = fetch + merge\n",
    "\n",
    "fetch changes local remote repository, but not local master. pull changes both. "
   ]
  },
  {
   "cell_type": "markdown",
   "id": "d7bc9510",
   "metadata": {},
   "source": [
    "**A Larger Group**\n",
    "\n",
    "Jessica works on featureA with John, on featureB with Josie. She first checkout -b featureA and commits a change. She doesn't have authoritation to push the main branch master, but she can push featureA, as she\n",
    "\n",
    "    git push -u origin featureA\n",
    "\n",
    "u for upstream, so that keeps track that the upstream of featureA is origin/featureA. In the future she can simply use pull, without specifying names. Then she starts to build a new branch:\n",
    "\n",
    "    git checkout -b featureB origin/master\n",
    "\n",
    "the origin/master is to make sure the branch is based on the latest remote master, rather than her local old master. She then makes some commits. Before she pushes, she learns that the original work of featureB has been pushed to featureBee. So Jessica first fetch origin and merge origin/featureBee. She doesn't want all featureB to be pushed to the server, so she pushes the latest to featureBee:\n",
    "\n",
    "    git push -u origin featureB:featureBee\n",
    "    git push -u <remote> <local branch>:<remote branch>\n",
    "\n",
    "Now John tells Jessica there's change in featureA. So Jessica fetch origin and checks the log:\n",
    "\n",
    "    git log featureA..origin/featureA\n",
    "\n",
    "She likes it and merges it with hers:\n",
    "\n",
    "    git checkout featureA\n",
    "    git merge origin/featureA\n",
    "    git push"
   ]
  },
  {
   "cell_type": "markdown",
   "id": "f88784ff",
   "metadata": {},
   "source": [
    "**Open Souce**\n",
    "\n",
    "It's impossible to modify the repository, so we sue fork, which copies a remote repository. We change in fork and eventually pull request. \n",
    "\n",
    "    git clone <url>      # 克隆主项目\n",
    "    cd project\n",
    "    git checkout -b featureA\n",
    "\n",
    "It's recommended to modify in a local branch. After that we make some commits, and fork the repository. Add the fork as a remote repository:\n",
    "\n",
    "    git remote add myfork <url>\n",
    "    git push -u myfork featureA\n",
    "\n",
    "Request a modification in the owner's repository:\n",
    "\n",
    "    git request-pull origin/master myfork\n",
    "\n",
    "If the owner's repository has already changed, we need to rebase:\n",
    "\n",
    "    git checkout featureA\n",
    "    git fetch origin\n",
    "    git rebase origin/master\n",
    "\n",
    "This way we change our version to after the latest one. Then force push:\n",
    "\n",
    "    git push -f myfork featureA\n",
    "\n",
    "If the owner gives feedbacks, we make a new branch:\n",
    "\n",
    "    git checkout -b featureAv2 origin/master\n",
    "    git merge --squash featureA\n",
    "\n",
    "which compress all commits of featureA. We commit and push myfork featureAv2. \n"
   ]
  },
  {
   "cell_type": "markdown",
   "id": "8586f8db",
   "metadata": {},
   "source": [
    "## Maintaining a project"
   ]
  },
  {
   "cell_type": "markdown",
   "id": "5c1620d6",
   "metadata": {},
   "source": [
    " For email patch:\n",
    "\n",
    "    git apply --check xxx.patch\n",
    "    git apply xxx.patch\n",
    "\n",
    "For Git format-patch mbox file:\n",
    "\n",
    "    git am xxx.patch\n",
    "\n",
    "If error, solve it manually and:\n",
    "\n",
    "    git am --resolved\n",
    "\n",
    "Or:\n",
    "\n",
    "    git am -3 xxx.patch\n"
   ]
  },
  {
   "cell_type": "markdown",
   "id": "8247197b",
   "metadata": {},
   "source": [
    "If Jessica said there's a good function in her branch ruby-client, we can add it as a remote branch:\n",
    "\n",
    "    $ git remote add jessica git://github.com/jessica/myproject.git\n",
    "    $ git fetch jessica\n",
    "    $ git checkout -b rubyclient jessica/ruby-client\n",
    "\n",
    "So in the future if there's any change we can use fetch and checkout. "
   ]
  },
  {
   "cell_type": "markdown",
   "id": "737a2742",
   "metadata": {},
   "source": [
    "## Cherry-Pick"
   ]
  },
  {
   "cell_type": "markdown",
   "id": "1a8026d6",
   "metadata": {},
   "source": [
    "Pick only specific ones, rather than the whole chain. \n",
    "\n",
    "    A -- B -- C -- D -- E        （feature）\n",
    "    \\\n",
    "      X -- Y                      （master）\n",
    "\n",
    "    git checkout master\n",
    "    git cherry-pick D\n",
    "\n",
    "    A -- B -- C -- D -- E        （feature）\n",
    "    \\\n",
    "      X -- Y -- D'               （master）\n"
   ]
  },
  {
   "cell_type": "markdown",
   "id": "5abf841f",
   "metadata": {},
   "source": [
    "It's used when something urgent is required from feature. "
   ]
  },
  {
   "cell_type": "markdown",
   "id": "8368bf13",
   "metadata": {},
   "source": [
    "## Rerere\n",
    "\n",
    "Same solution for same merge conflict in the future. \n",
    "\n",
    "    $ git config --global rerere.enabled true"
   ]
  },
  {
   "cell_type": "markdown",
   "id": "4a1aa111",
   "metadata": {},
   "source": [
    "# SSH"
   ]
  },
  {
   "cell_type": "markdown",
   "id": "1ddf833d",
   "metadata": {},
   "source": [
    "Secure Shell: it's used to safely connect the remote computer, e.g. the server of GitHub. \n",
    "\n",
    "It's used for Git manipulations like push, pull. \n",
    "\n",
    "Like https which requires password. "
   ]
  },
  {
   "cell_type": "markdown",
   "id": "e2c67238",
   "metadata": {},
   "source": [
    "# Git Tools"
   ]
  },
  {
   "cell_type": "markdown",
   "id": "460b5a37",
   "metadata": {},
   "source": [
    "## Revision Selection"
   ]
  },
  {
   "cell_type": "markdown",
   "id": "002a3b1f",
   "metadata": {},
   "source": [
    "    git show HEAD      # 当前提交\n",
    "    git show HEAD^     # 上一个提交\n",
    "    git show HEAD~2    # 往前第 2 个提交\n",
    "\n",
    "    git show HEAD@{yesterday}   # HEAD 昨天的位置\n",
    "    git show HEAD@{2.days.ago}  # 2 天前的位置\n",
    "\n",
    "reflog to show the journey of HEAD\n",
    "    \n",
    "    git reflot\n",
    "    git reflog show master\n",
    "\n",
    "    HEAD~3^2   → HEAD 的第 3 代祖先的第二父提交\n"
   ]
  },
  {
   "cell_type": "markdown",
   "id": "baf34e7e",
   "metadata": {},
   "source": [
    "The commit (version, e.g. c3, c4 is a sub-branch, then the commits after c2 on the other branch will be retrieved) in B but not in A:\n",
    "\n",
    "    git log master..featureA\n",
    "\n",
    "The commit in refA or refB but not in refC\n",
    "\n",
    "    git log refA refB ^refC\n",
    "\n",
    "The commit in A or B but not mutual:\n",
    "\n",
    "    git log master...experiment --left-right\n",
    "\n",
    "The output will be like:\n",
    "\n",
    "    < F\n",
    "    < E\n",
    "    > D\n",
    "    > C\n"
   ]
  },
  {
   "cell_type": "markdown",
   "id": "59e4a8e0",
   "metadata": {},
   "source": [
    "## Stash"
   ]
  },
  {
   "cell_type": "markdown",
   "id": "f00550cf",
   "metadata": {},
   "source": [
    "If you don't want to commit because you haven't finished, yet you have to switch to another branch: use stash\n",
    "\n",
    "    git stash push -m \"work in progess\""
   ]
  },
  {
   "cell_type": "markdown",
   "id": "545cad92",
   "metadata": {},
   "source": [
    "Check what's stashed:\n",
    "\n",
    "    git stash list"
   ]
  },
  {
   "cell_type": "markdown",
   "id": "e9a08566",
   "metadata": {},
   "source": [
    "Get the latest stashed back to workspace:\n",
    "\n",
    "    git stash apply\n",
    "\n",
    "Get the latest stashed back to workspace but delete stash:\n",
    "\n",
    "    git stash pop\n",
    "\n",
    "Delete stash:\n",
    "\n",
    "    git stash drop stash@{0}\n",
    "    git stash clear\n",
    "\n",
    "Save the change in stash:\n",
    "\n",
    "    git stash --keep-index"
   ]
  },
  {
   "cell_type": "markdown",
   "id": "e2cf7a3b",
   "metadata": {},
   "source": [
    "## Clean"
   ]
  },
  {
   "cell_type": "markdown",
   "id": "4e07fca0",
   "metadata": {},
   "source": [
    "Sometimes there are files automatically generated and have ?? before the name of the file when git status. These untracked files can be deleted if:\n",
    "\n",
    "    git clean -d -n. "
   ]
  },
  {
   "cell_type": "markdown",
   "id": "df2ff387",
   "metadata": {},
   "source": [
    "## Signature"
   ]
  },
  {
   "cell_type": "markdown",
   "id": "50525971",
   "metadata": {},
   "source": [
    "Basic signing:\n",
    "\n",
    "    git commit --author=\"John Doe <johndoe@email.com>\n",
    "\n",
    "But everyone can write this line and claim to be the person. "
   ]
  },
  {
   "cell_type": "markdown",
   "id": "d65120dd",
   "metadata": {},
   "source": [
    "GPG: GNU Privacy Guard\n",
    "\n",
    "Private Key: On personal laptop, stores the sign\n",
    "\n",
    "Public Key: Public, so that other people know it's you"
   ]
  },
  {
   "cell_type": "markdown",
   "id": "f7c9e637",
   "metadata": {},
   "source": [
    "When tagging using:\n",
    "\n",
    "    git tag -s v1.0 -m \"my signed release\"\n",
    "\n",
    "Other people can test it:\n",
    "\n",
    "    git tag -v v1.0\n",
    "\n",
    "If the output is good signature then it's valid. \n",
    "\n",
    "When committing:\n",
    "\n",
    "    git commit -S -m \"fix bug\"\n",
    "\n",
    "In git log --show-signature, we can see gpg: Good signature from \"name <email>\". Or \n",
    "\n",
    "    git merge -S verified-feature"
   ]
  },
  {
   "cell_type": "markdown",
   "id": "7a1dd194",
   "metadata": {},
   "source": [
    "Establishment:\n",
    "\n",
    "1. pip install gnupg\n",
    "\n",
    "2. gpg --gen-key\n",
    "\n",
    "3. gpg --list-keys # to check id\n",
    "\n",
    "4. git config --global user.signingkey <id> # from step 3\n",
    "\n",
    "5. git config --global commit.gpgSign true\n",
    "\n",
    "6. gpg --armor --export you@example.com > mykey.asc\n",
    "\n",
    "so that people can check if they import:\n",
    "\n",
    "gpg --import mykey.asc"
   ]
  },
  {
   "cell_type": "markdown",
   "id": "fcc5ab2d",
   "metadata": {},
   "source": [
    "# Configuration"
   ]
  },
  {
   "cell_type": "markdown",
   "id": "3e7844a2",
   "metadata": {},
   "source": [
    "## Basic Configuration"
   ]
  },
  {
   "cell_type": "markdown",
   "id": "90def189",
   "metadata": {},
   "source": [
    "    $ git config --global user.name \"John Doe\"\n",
    "    $ git config --global user.email johndoe@example.com"
   ]
  },
  {
   "cell_type": "markdown",
   "id": "3966df49",
   "metadata": {},
   "source": [
    "## Hook"
   ]
  },
  {
   "cell_type": "markdown",
   "id": "1908937d",
   "metadata": {},
   "source": [
    "Client-Side Hook: Committing-workflow, email, and other hooks. (Hooks are not copied when cloning)\n",
    "\n",
    "**Commiting-Workflow**\n",
    "\n",
    "    .git/hooks/\n",
    "    ├── pre-commit.sample\n",
    "    ├── commit-msg.sample\n",
    "    ├── post-commit.sample\n",
    "    ...\n",
    "\n",
    "To use them just drop \"sample\".\n",
    "\n",
    "Pre-commit: Check validity or style\n",
    "\n",
    "    cp .git/hooks/pre-commit.sample .git/hooks/pre-commit\n",
    "\n",
    "\n",
    "**Email**\n",
    "\n",
    "First commit, then 'git format-patch origin/main`, which generates a patch file.\n",
    "\n",
    "Set email info:\n",
    "\n",
    "    git config --global sendemail.smtpserver smtp.gmail.com\n",
    "    git config --global sendemail.smtpuser yourname@gmail.com\n",
    "    git config --global sendemail.smtpencryption tls\n",
    "    git config --global sendemail.smtpserverport 587\n",
    "    git config --global sendemail.confirm always\n",
    "\n",
    "To send email: git send-email 0001-Fix-bug-in-input-parsing.patch \\\n",
    "  --to maintainer@example.com\n",
    "\n",
    "To use hook:\n",
    "\n",
    "\n",
    "    #!/bin/sh\n",
    "    # 自动生成并发送补丁邮件\n",
    "    last_commit=$(git rev-parse HEAD)\n",
    "    patch_file=\"/tmp/$(git format-patch -1 $last_commit --stdout > /tmp/last.patch && echo last.patch)\"\n",
    "\n",
    "    echo \"📦 Sending patch for commit: $last_commit\"\n",
    "    git send-email \"$patch_file\" \\\n",
    "    --to maintainer@example.com \\\n",
    "    --suppress-cc=all --quiet\n",
    "\n",
    "And set:\n",
    "\n",
    "    chmod +x .git/hooks/post-commit\n",
    "\n",
    "So that every time there's a commit there will be an email. "
   ]
  }
 ],
 "metadata": {
  "language_info": {
   "name": "python"
  }
 },
 "nbformat": 4,
 "nbformat_minor": 5
}
