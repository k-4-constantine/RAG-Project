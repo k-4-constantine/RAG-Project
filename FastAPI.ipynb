{
 "cells": [
  {
   "cell_type": "markdown",
   "id": "c28adf90",
   "metadata": {},
   "source": [
    "# Type Hinting"
   ]
  },
  {
   "cell_type": "code",
   "execution_count": null,
   "id": "f061e7b8",
   "metadata": {},
   "outputs": [],
   "source": [
    "def get_full_name(first_name, last_name:str):\n",
    "    full_name = first_name.title() + \" \" + last_name\n",
    "    return full_name\n",
    "\n",
    "print(get_full_name(\"john\", \"doe\"))"
   ]
  },
  {
   "cell_type": "markdown",
   "id": "d51fc825",
   "metadata": {},
   "source": [
    "Type hinting enables suggesttions. For example:\n",
    "\n",
    "full_name = frist_name.sth\n",
    "\n",
    "There will be a list of options"
   ]
  },
  {
   "cell_type": "markdown",
   "id": "6404c833",
   "metadata": {},
   "source": [
    "# FastAPI"
   ]
  },
  {
   "cell_type": "code",
   "execution_count": null,
   "id": "b1533ba3",
   "metadata": {},
   "outputs": [],
   "source": [
    "from enum import Enum\n",
    "\n",
    "from fastapi import FastAPI\n",
    "\n",
    "\n",
    "class ModelName(str, Enum):\n",
    "    alexnet = \"alexnet\"\n",
    "    resnet = \"resnet\"\n",
    "    lenet = \"lenet\"\n",
    "\n",
    "\n",
    "app = FastAPI()\n",
    "\n",
    "\n",
    "@app.get(\"/models/{model_name}\")\n",
    "async def get_model(model_name: ModelName):\n",
    "    if model_name is ModelName.alexnet:\n",
    "        return {\"model_name\": model_name, \"message\": \"Deep Learning FTW!\"}\n",
    "\n",
    "    if model_name.value == \"lenet\":\n",
    "        return {\"model_name\": model_name, \"message\": \"LeCNN all the images\"}\n",
    "\n",
    "    return {\"model_name\": model_name, \"message\": \"Have some residuals\"}"
   ]
  },
  {
   "cell_type": "markdown",
   "id": "94812838",
   "metadata": {},
   "source": [
    "access /models/alexnet -> get \"Deep Learning FTW!\"\n",
    "\n",
    "access /models/lenet -> get \"LeCNN all the images\"\n",
    "\n",
    "access /models/resnet -> get \"Have some residuals\""
   ]
  },
  {
   "cell_type": "markdown",
   "id": "3914530a",
   "metadata": {},
   "source": [
    "## Inheritance"
   ]
  },
  {
   "cell_type": "code",
   "execution_count": 1,
   "id": "1d7fdbd2",
   "metadata": {},
   "outputs": [
    {
     "name": "stdout",
     "output_type": "stream",
     "text": [
      "Some sound\n"
     ]
    }
   ],
   "source": [
    "class Animal:\n",
    "    def speak(self):\n",
    "        print(\"Some sound\")\n",
    "\n",
    "class Dog(Animal):\n",
    "    pass\n",
    "\n",
    "dog = Dog()\n",
    "dog.speak()"
   ]
  },
  {
   "cell_type": "markdown",
   "id": "7484b998",
   "metadata": {},
   "source": [
    "## Enum"
   ]
  },
  {
   "cell_type": "code",
   "execution_count": null,
   "id": "c405c62e",
   "metadata": {},
   "outputs": [],
   "source": [
    "class ModelName(str, Enum):\n",
    "    alexnet = \"alexnet\"\n",
    "    resnet = \"resnet\"\n",
    "    lenet = \"lenet\"\n",
    "\n",
    "print(ModelName.alexnet)          # ModelName.alexnet\n",
    "print(ModelName.alexnet.value)    # alexnet"
   ]
  },
  {
   "cell_type": "markdown",
   "id": "bdd81163",
   "metadata": {},
   "source": [
    "## Parameters"
   ]
  },
  {
   "cell_type": "markdown",
   "id": "e2c71961",
   "metadata": {},
   "source": [
    "If more than 1 layer, use\n",
    "\n",
    ":path"
   ]
  },
  {
   "cell_type": "code",
   "execution_count": null,
   "id": "8a6bced9",
   "metadata": {},
   "outputs": [],
   "source": [
    "@app.get(\"/files/{file_path}\")\n",
    "async def read_file(file_path: str):\n",
    "    return {\"file_path\": file_path}"
   ]
  },
  {
   "cell_type": "markdown",
   "id": "4355df4e",
   "metadata": {},
   "source": [
    "/files/hello.txt                    -> Can access\n",
    "/files/home/johndoe/myfile/txt      -> Cannot access"
   ]
  },
  {
   "cell_type": "code",
   "execution_count": null,
   "id": "17de2e3f",
   "metadata": {},
   "outputs": [],
   "source": [
    "@app.get(\"/files/{file_path:path}\")\n",
    "async def read_file(file_path: str):\n",
    "    return {\"file_path\": file_path}"
   ]
  },
  {
   "cell_type": "markdown",
   "id": "0170f0ba",
   "metadata": {},
   "source": [
    "请求路径\t                             匹配结果\n",
    "\n",
    "/files/hello.txt\t                    file_path = \"hello.txt\"\n",
    "\n",
    "/files/home/johndoe/myfile.txt\t        file_path = \"home/johndoe/myfile.txt\""
   ]
  },
  {
   "cell_type": "code",
   "execution_count": null,
   "id": "cd2399a2",
   "metadata": {},
   "outputs": [],
   "source": [
    "@app.get(\"/items/{item_id}\")\n",
    "async def read_item(item_id: str, p: str, q: str | None = None):\n",
    "    if q:\n",
    "        return {\"item_id\": item_id, \"q\": q, \"p\": p}\n",
    "    return {\"item_id\": item_id, \"p\": p}"
   ]
  },
  {
   "cell_type": "markdown",
   "id": "7208d4d8",
   "metadata": {},
   "source": [
    "item_id is a **path parameter**, since it's in {}: \n",
    "\n",
    "/items/apple\n",
    "\n",
    "/items/123\n",
    "\n",
    "/items/xyz\n",
    "\n",
    "q is a **query parameter**:\n",
    "\n",
    "/items/apple?q=hello&p=hola\n",
    "\n",
    "Here, q is optional and p is not. Optional parameters must come after non-optional ones. \n"
   ]
  },
  {
   "cell_type": "markdown",
   "id": "574aa000",
   "metadata": {},
   "source": [
    "## Request Body 请求体"
   ]
  },
  {
   "cell_type": "code",
   "execution_count": null,
   "id": "ab2df173",
   "metadata": {},
   "outputs": [],
   "source": [
    "from fastapi import FastAPI\n",
    "from pydantic import BaseModel # Verify input structure\n",
    "\n",
    "\n",
    "class Item(BaseModel):\n",
    "    name: str\n",
    "    description: str | None = None\n",
    "    price: float\n",
    "    tax: float | None = None\n",
    "\n",
    "\n",
    "app = FastAPI()\n",
    "\n",
    "\n",
    "@app.post(\"/items/\")\n",
    "async def create_item(item: Item):\n",
    "    return item"
   ]
  },
  {
   "cell_type": "markdown",
   "id": "40abdfe4",
   "metadata": {},
   "source": [
    "请求体的作用\n",
    "\n",
    "1. 传递复杂数据结构\n",
    "\n",
    "    JSON 可以表示嵌套对象、列表、字典，非常灵活。\n",
    "\n",
    "    Pydantic 模型 Product 自动验证类型、必填字段、默认值。\n",
    "\n",
    "2. 清晰的 API 语义\n",
    "\n",
    "    路径参数 → 哪个资源\n",
    "\n",
    "    请求体 → 更新后的内容\n",
    "\n",
    "    查询参数 → 控制或可选参数\n",
    "\n",
    "3. 安全性与扩展性\n",
    "\n",
    "    可以加密或签名 JSON\n",
    "\n",
    "    可以随时扩展字段而不破坏 API"
   ]
  },
  {
   "cell_type": "markdown",
   "id": "65e89d0d",
   "metadata": {},
   "source": [
    "## Extra Verification"
   ]
  },
  {
   "cell_type": "markdown",
   "id": "b48cf992",
   "metadata": {},
   "source": [
    "### Query Parameters"
   ]
  },
  {
   "cell_type": "code",
   "execution_count": null,
   "id": "a6220852",
   "metadata": {},
   "outputs": [],
   "source": [
    "from typing import Annotated\n",
    "\n",
    "from fastapi import FastAPI, Query\n",
    "\n",
    "app = FastAPI()\n",
    "\n",
    "\n",
    "@app.get(\"/items/\")\n",
    "async def read_items(\n",
    "    q: Annotated[\n",
    "        str | None, Query(min_length=3, max_length=50, pattern=\"^fixedquery$\")\n",
    "    ] = None,\n",
    "):\n",
    "    results = {\"items\": [{\"item_id\": \"Foo\"}, {\"item_id\": \"Bar\"}]}\n",
    "    if q:\n",
    "        results.update({\"q\": q})\n",
    "    return results"
   ]
  },
  {
   "cell_type": "markdown",
   "id": "f3b0249a",
   "metadata": {},
   "source": [
    "The input can be a list. \n",
    "\n",
    "http://localhost:8000/items/?q=foo&q=bar"
   ]
  },
  {
   "cell_type": "code",
   "execution_count": null,
   "id": "56f465d9",
   "metadata": {},
   "outputs": [],
   "source": [
    "from typing import Annotated\n",
    "\n",
    "from fastapi import FastAPI, Query\n",
    "\n",
    "app = FastAPI()\n",
    "\n",
    "\n",
    "@app.get(\"/items/\")\n",
    "async def read_items(q: Annotated[list[str] | None, Query()] = None):\n",
    "    query_items = {\"q\": q}\n",
    "    return query_items"
   ]
  },
  {
   "cell_type": "markdown",
   "id": "0fa7b516",
   "metadata": {},
   "source": [
    "If the query parameter is not a valid python variable, e.g. item-query\n",
    "\n",
    "Use alias"
   ]
  },
  {
   "cell_type": "code",
   "execution_count": null,
   "id": "ad00c7b2",
   "metadata": {},
   "outputs": [],
   "source": [
    "@app.get(\"/items/\")\n",
    "async def read_items(q: Annotated[str | None, Query(alias=\"item-query\")] = None):\n",
    "    results = {\"items\": [{\"item_id\": \"Foo\"}, {\"item_id\": \"Bar\"}]}\n",
    "    if q:\n",
    "        results.update({\"q\": q})\n",
    "    return results"
   ]
  },
  {
   "cell_type": "markdown",
   "id": "cc4330e2",
   "metadata": {},
   "source": [
    "### Path Parameters:"
   ]
  },
  {
   "cell_type": "code",
   "execution_count": null,
   "id": "a59f5834",
   "metadata": {},
   "outputs": [],
   "source": [
    "from typing import Annotated\n",
    "\n",
    "from fastapi import FastAPI, Path, Query\n",
    "\n",
    "app = FastAPI()\n",
    "\n",
    "\n",
    "@app.get(\"/items/{item_id}\")\n",
    "async def read_items(\n",
    "    item_id: Annotated[int, Path(title=\"The ID of the item to get\")],\n",
    "    q: Annotated[str | None, Query(alias=\"item-query\")] = None,\n",
    "):\n",
    "    results = {\"item_id\": item_id}\n",
    "    if q:\n",
    "        results.update({\"q\": q})\n",
    "    return results"
   ]
  },
  {
   "cell_type": "markdown",
   "id": "8243ecb0",
   "metadata": {},
   "source": [
    "Unlike query parameters, path parameters are always non-optional"
   ]
  },
  {
   "cell_type": "code",
   "execution_count": null,
   "id": "49f8a898",
   "metadata": {},
   "outputs": [],
   "source": [
    "def f(*, b, a): # After * key-word only\n",
    "    ...\n",
    "f(a=1, b=2)  # OK，顺序可调\n",
    "f(1, 2)      # ❌ 错误"
   ]
  },
  {
   "cell_type": "code",
   "execution_count": null,
   "id": "c02ca6f7",
   "metadata": {},
   "outputs": [],
   "source": [
    "async def read_items(\n",
    "    *, q: str, item_id: int\n",
    "):\n",
    "    ..."
   ]
  },
  {
   "cell_type": "markdown",
   "id": "2e60e8c7",
   "metadata": {},
   "source": [
    "Use * such that the order doesn't matter and all parameters must be passed with key-words"
   ]
  },
  {
   "cell_type": "markdown",
   "id": "22e34f3f",
   "metadata": {},
   "source": [
    "**Comparison**\n",
    "\n",
    "gt: greater than\n",
    "\n",
    "le: less than or equal"
   ]
  },
  {
   "cell_type": "code",
   "execution_count": null,
   "id": "0bbb5174",
   "metadata": {},
   "outputs": [],
   "source": [
    "@app.get(\"/items/{item_id}\")\n",
    "async def read_items(\n",
    "    item_id: Annotated[int, Path(title=\"The ID of the item to get\", ge=1)], q: str\n",
    "):\n",
    "    results = {\"item_id\": item_id}\n",
    "    if q:\n",
    "        results.update({\"q\": q})\n",
    "    return results"
   ]
  },
  {
   "cell_type": "markdown",
   "id": "b0f3cd74",
   "metadata": {},
   "source": [
    "### Pydantic Model\n",
    "\n",
    "For lots of query parameters"
   ]
  },
  {
   "cell_type": "markdown",
   "id": "023bccb7",
   "metadata": {},
   "source": [
    "GET /items/?limit=50&offset=10&order_by=updated_at&tags=python&tags=fastapi\n",
    "\n",
    "    @app.get(\"/items/\")\n",
    "    async def read_items(limit: int = 100, offset: int = 0, order_by: str = \"created_at\"):\n",
    "        return {\"limit\": limit, \"offset\": offset, \"order_by\": order_by}\n",
    "\n",
    "Use Pydantic model to centralize restrictions"
   ]
  },
  {
   "cell_type": "code",
   "execution_count": null,
   "id": "bbcfb8eb",
   "metadata": {},
   "outputs": [],
   "source": [
    "class FilterParams(BaseModel):\n",
    "    limit: int = Field(100, gt=0, le=100)  # 限制 limit 在 1~100 之间\n",
    "    offset: int = Field(0, ge=0)           # offset >= 0\n",
    "    order_by: Literal[\"created_at\", \"updated_at\"] = \"created_at\" # Can only be these two\n",
    "    tags: list[str] = []                   # 可以传多个 tags\n"
   ]
  },
  {
   "cell_type": "code",
   "execution_count": null,
   "id": "c6464b09",
   "metadata": {},
   "outputs": [],
   "source": [
    "from typing import Annotated\n",
    "from fastapi import Query\n",
    "\n",
    "@app.get(\"/items/\")\n",
    "async def read_items(filter_query: Annotated[FilterParams, Query()]):\n",
    "    return filter_query"
   ]
  },
  {
   "cell_type": "markdown",
   "id": "d2895393",
   "metadata": {},
   "source": [
    "    async def update_item(item_id: int, item: Item, importance: int):\n",
    "        ...\n",
    "\n",
    "PUT /items/42?importance=5\n",
    "\n",
    "{\n",
    "  \"name\": \"Foo\",\n",
    "  \"price\": 42.0\n",
    "}\n"
   ]
  },
  {
   "cell_type": "markdown",
   "id": "bd6ecce2",
   "metadata": {},
   "source": [
    "But if want to have:\n",
    "\n",
    "{\n",
    "  \"item\": {...},\n",
    "  \"user\": {...},\n",
    "\n",
    "  \"importance\": 5\n",
    "\n",
    "}\n",
    "\n",
    "that is, if it's necessary to put **int** in json:"
   ]
  },
  {
   "cell_type": "code",
   "execution_count": null,
   "id": "34f52ea1",
   "metadata": {},
   "outputs": [],
   "source": [
    "from typing import Annotated\n",
    "\n",
    "from fastapi import Body, FastAPI\n",
    "from pydantic import BaseModel\n",
    "\n",
    "app = FastAPI()\n",
    "\n",
    "\n",
    "class Item(BaseModel):\n",
    "    name: str\n",
    "    description: str | None = None\n",
    "    price: float\n",
    "    tax: float | None = None\n",
    "\n",
    "\n",
    "class User(BaseModel):\n",
    "    username: str\n",
    "    full_name: str | None = None\n",
    "\n",
    "\n",
    "@app.put(\"/items/{item_id}\")\n",
    "async def update_item(\n",
    "    item_id: int, item: Item, user: User, importance: Annotated[int, Body()]\n",
    "):\n",
    "    results = {\"item_id\": item_id, \"item\": item, \"user\": user, \"importance\": importance}\n",
    "    return results"
   ]
  },
  {
   "cell_type": "markdown",
   "id": "526d2fbf",
   "metadata": {},
   "source": [
    "If want to have \n",
    "\n",
    "    {\n",
    "    \"item\": {\n",
    "        \"name\": \"Foo\",\n",
    "        \"description\": \"The pretender\",\n",
    "        \"price\": 42.0,\n",
    "        \"tax\": 3.2\n",
    "    }\n",
    "}\n",
    "\n",
    "Rather than:\n",
    "\n",
    "    {\n",
    "    \"name\": \"Foo\",\n",
    "    \"description\": \"The pretender\",\n",
    "    \"price\": 42.0,\n",
    "    \"tax\": 3.2\n",
    "}"
   ]
  },
  {
   "cell_type": "code",
   "execution_count": null,
   "id": "d02f0568",
   "metadata": {},
   "outputs": [],
   "source": [
    "@app.put(\"/items/{item_id}\")\n",
    "async def update_item(item_id: int, item: Annotated[Item, Body(embed=True)]):\n",
    "    results = {\"item_id\": item_id, \"item\": item}\n",
    "    return results"
   ]
  },
  {
   "cell_type": "markdown",
   "id": "6d8abf71",
   "metadata": {},
   "source": [
    "## Field"
   ]
  },
  {
   "cell_type": "markdown",
   "id": "9643d4d5",
   "metadata": {},
   "source": [
    "Essentially the same with **Query, Path, Body**, which restricts input"
   ]
  },
  {
   "cell_type": "code",
   "execution_count": null,
   "id": "b4e6dbf6",
   "metadata": {},
   "outputs": [],
   "source": [
    "from pydantic import Field\n",
    "\n",
    "app = FastAPI()\n",
    "\n",
    "\n",
    "class Item(BaseModel):\n",
    "    name: str\n",
    "    description: str | None = Field(\n",
    "        default=None, title=\"The description of the item\", max_length=300\n",
    "    )\n",
    "    price: float = Field(gt=0, description=\"The price must be greater than zero\")\n",
    "    tax: float | None = None\n",
    "\n",
    "\n",
    "@app.put(\"/items/{item_id}\")\n",
    "async def update_item(item_id: int, item: Annotated[Item, Body(embed=True)]):\n",
    "    results = {\"item_id\": item_id, \"item\": item}\n",
    "    return results"
   ]
  },
  {
   "cell_type": "markdown",
   "id": "baa6bb8f",
   "metadata": {},
   "source": [
    "## Embeded Model"
   ]
  },
  {
   "cell_type": "code",
   "execution_count": null,
   "id": "c9356448",
   "metadata": {},
   "outputs": [],
   "source": [
    "class Image(BaseModel):\n",
    "    url: str\n",
    "    name: str\n",
    "\n",
    "\n",
    "class Item(BaseModel):\n",
    "    name: str\n",
    "    description: str | None = None\n",
    "    price: float\n",
    "    tax: float | None = None\n",
    "    tags: set[str] = set()\n",
    "    image: Image | None = None\n",
    "\n",
    "\n",
    "@app.put(\"/items/{item_id}\")\n",
    "async def update_item(item_id: int, item: Item):\n",
    "    results = {\"item_id\": item_id, \"item\": item}\n",
    "    return results"
   ]
  },
  {
   "cell_type": "markdown",
   "id": "75aa228e",
   "metadata": {},
   "source": [
    "    {\n",
    "    \"name\": \"Foo\",\n",
    "    \"description\": \"The pretender\",\n",
    "    \"price\": 42.0,\n",
    "    \"tax\": 3.2,\n",
    "    \"tags\": [\"rock\", \"metal\", \"bar\"],\n",
    "    \"image\": {\n",
    "        \"url\": \"http://example.com/baz.jpg\",\n",
    "        \"name\": \"The Foo live\"\n",
    "            }\n",
    "    }"
   ]
  },
  {
   "cell_type": "markdown",
   "id": "b9c12bf2",
   "metadata": {},
   "source": [
    "Check url"
   ]
  },
  {
   "cell_type": "code",
   "execution_count": null,
   "id": "74ba7795",
   "metadata": {},
   "outputs": [],
   "source": [
    "from pydantic import BaseModel, HttpUrl\n",
    "\n",
    "app = FastAPI()\n",
    "\n",
    "\n",
    "class Image(BaseModel):\n",
    "    url: HttpUrl\n",
    "    name: str"
   ]
  },
  {
   "cell_type": "markdown",
   "id": "f5fc1254",
   "metadata": {},
   "source": [
    "## Cookie & Header"
   ]
  },
  {
   "cell_type": "code",
   "execution_count": null,
   "id": "2d61d2bb",
   "metadata": {},
   "outputs": [],
   "source": [
    "from typing import Annotated\n",
    "\n",
    "from fastapi import Cookie, FastAPI\n",
    "\n",
    "app = FastAPI()\n",
    "\n",
    "\n",
    "@app.get(\"/items/\")\n",
    "async def read_items(ads_id: Annotated[str | None, Cookie()] = None):\n",
    "    return {\"ads_id\": ads_id}"
   ]
  },
  {
   "cell_type": "code",
   "execution_count": null,
   "id": "e6f50ef4",
   "metadata": {},
   "outputs": [],
   "source": [
    "from typing import Annotated\n",
    "\n",
    "from fastapi import FastAPI, Header\n",
    "\n",
    "app = FastAPI()\n",
    "\n",
    "\n",
    "@app.get(\"/items/\")\n",
    "async def read_items(user_agent: Annotated[str | None, Header()] = None):\n",
    "    return {\"User-Agent\": user_agent}"
   ]
  },
  {
   "cell_type": "markdown",
   "id": "093b21b8",
   "metadata": {},
   "source": [
    "## Respond Model"
   ]
  },
  {
   "cell_type": "markdown",
   "id": "1138573e",
   "metadata": {},
   "source": [
    "Mandate the returned model. Like def xxx: -> respond mondel"
   ]
  },
  {
   "cell_type": "code",
   "execution_count": null,
   "id": "eeb2cb3e",
   "metadata": {},
   "outputs": [],
   "source": [
    "from typing import Any\n",
    "\n",
    "from fastapi import FastAPI\n",
    "from pydantic import BaseModel, EmailStr\n",
    "\n",
    "app = FastAPI()\n",
    "\n",
    "\n",
    "class UserIn(BaseModel):\n",
    "    username: str\n",
    "    password: str\n",
    "    email: EmailStr\n",
    "    full_name: str | None = None\n",
    "\n",
    "\n",
    "class UserOut(BaseModel):\n",
    "    username: str\n",
    "    email: EmailStr\n",
    "    full_name: str | None = None\n",
    "\n",
    "\n",
    "@app.post(\"/user/\", response_model=UserOut)\n",
    "async def create_user(user: UserIn) -> Any:\n",
    "    return user"
   ]
  },
  {
   "cell_type": "markdown",
   "id": "0cfc0c7e",
   "metadata": {},
   "source": [
    "    def greet(name, age):\n",
    "    print(name, age)\n",
    "\n",
    "    data = {\"name\": \"Alice\", \"age\": 22}\n",
    "    greet(**data)\n",
    "\n",
    "    # Same as\n",
    "    greet(name=\"Alice\", age=22)"
   ]
  },
  {
   "cell_type": "code",
   "execution_count": null,
   "id": "44e6c3b5",
   "metadata": {},
   "outputs": [],
   "source": [
    "from fastapi import FastAPI\n",
    "from pydantic import BaseModel, EmailStr\n",
    "\n",
    "app = FastAPI()\n",
    "\n",
    "\n",
    "class UserIn(BaseModel):\n",
    "    username: str\n",
    "    password: str\n",
    "    email: EmailStr\n",
    "    full_name: str | None = None\n",
    "\n",
    "\n",
    "class UserOut(BaseModel):\n",
    "    username: str\n",
    "    email: EmailStr\n",
    "    full_name: str | None = None\n",
    "\n",
    "\n",
    "class UserInDB(BaseModel):\n",
    "    username: str\n",
    "    hashed_password: str\n",
    "    email: EmailStr\n",
    "    full_name: str | None = None\n",
    "\n",
    "\n",
    "def fake_password_hasher(raw_password: str):\n",
    "    return \"supersecret\" + raw_password\n",
    "\n",
    "\n",
    "def fake_save_user(user_in: UserIn):\n",
    "    hashed_password = fake_password_hasher(user_in.password)\n",
    "    user_in_db = UserInDB(**user_in.dict(), hashed_password=hashed_password)\n",
    "    print(\"User saved! ..not really\")\n",
    "    return user_in_db\n",
    "\n",
    "\n",
    "@app.post(\"/user/\", response_model=UserOut)\n",
    "async def create_user(user_in: UserIn):\n",
    "    user_saved = fake_save_user(user_in)\n",
    "    return user_saved"
   ]
  },
  {
   "cell_type": "markdown",
   "id": "a1662a6e",
   "metadata": {},
   "source": [
    "## Form"
   ]
  },
  {
   "cell_type": "markdown",
   "id": "fdb090f1",
   "metadata": {},
   "source": [
    "$ pip install python-multipart"
   ]
  },
  {
   "cell_type": "markdown",
   "id": "78f46946",
   "metadata": {},
   "source": [
    "Sometimes the client（客户端） request uses headers like: Content-Type: application/json\n",
    "\n",
    "But some other time \n",
    "\n",
    "    POST /login/ HTTP/1.1\n",
    "    Content-Type: application/x-www-form-urlencoded\n",
    "In this case the body is:\n",
    "\n",
    "    username=alice&password=123\n",
    "So we use:"
   ]
  },
  {
   "cell_type": "code",
   "execution_count": null,
   "id": "7f61733a",
   "metadata": {},
   "outputs": [],
   "source": [
    "from fastapi import Form\n",
    "\n",
    "@app.post(\"/login_form/\")\n",
    "async def login_form(\n",
    "    username: str = Form(..., description=\"User's login name\", example=\"alice\"), # Literally ...\n",
    "    password: str = Form(..., min_length=6, max_length=32)\n",
    "):\n",
    "    return {\"username\": username}"
   ]
  },
  {
   "cell_type": "code",
   "execution_count": null,
   "id": "5156c629",
   "metadata": {},
   "outputs": [],
   "source": [
    "class FormData(BaseModel):\n",
    "    username: str\n",
    "    password: str\n",
    "\n",
    "\n",
    "@app.post(\"/login/\")\n",
    "async def login(data: Annotated[FormData, Form()]):\n",
    "    return data"
   ]
  },
  {
   "cell_type": "markdown",
   "id": "d62d70da",
   "metadata": {},
   "source": [
    "## Upload File"
   ]
  },
  {
   "cell_type": "code",
   "execution_count": null,
   "id": "7e11c746",
   "metadata": {},
   "outputs": [],
   "source": [
    "from typing import Annotated\n",
    "\n",
    "from fastapi import FastAPI, File, UploadFile\n",
    "\n",
    "app = FastAPI()\n",
    "\n",
    "\n",
    "@app.post(\"/files/\")\n",
    "async def create_file(file: Annotated[bytes, File()]):\n",
    "    return {\"file_size\": len(file)}\n",
    "\n",
    "\n",
    "@app.post(\"/uploadfile/\")\n",
    "async def create_upload_file(file: UploadFile):\n",
    "    return {\"filename\": file.filename}"
   ]
  },
  {
   "cell_type": "code",
   "execution_count": 6,
   "id": "fe12e598",
   "metadata": {},
   "outputs": [],
   "source": [
    "from fastapi import FastAPI, File, UploadFile\n",
    "\n",
    "app = FastAPI()\n",
    "\n",
    "@app.post(\"/upload/\")\n",
    "async def upload_file(file: UploadFile = File(...)):\n",
    "    contents = await file.read()\n",
    "    return {\"filename\": file.filename, \"size\": len(contents)}\n"
   ]
  },
  {
   "cell_type": "markdown",
   "id": "34b0ef65",
   "metadata": {},
   "source": [
    "## Error Management"
   ]
  },
  {
   "cell_type": "code",
   "execution_count": null,
   "id": "83572ecc",
   "metadata": {},
   "outputs": [],
   "source": [
    "from fastapi import FastAPI, HTTPException\n",
    "\n",
    "app = FastAPI()\n",
    "\n",
    "items = {\"foo\": \"The Foo Wrestlers\"}\n",
    "\n",
    "\n",
    "@app.get(\"/items/{item_id}\")\n",
    "async def read_item(item_id: str):\n",
    "    if item_id not in items:\n",
    "        raise HTTPException(status_code=404, detail=\"Item not found\")\n",
    "    return {\"item\": items[item_id]}"
   ]
  },
  {
   "cell_type": "markdown",
   "id": "45f3c3da",
   "metadata": {},
   "source": [
    "## API doc visual elements"
   ]
  },
  {
   "cell_type": "markdown",
   "id": "8cec2f7b",
   "metadata": {},
   "source": [
    "Group differnet endpoints"
   ]
  },
  {
   "cell_type": "code",
   "execution_count": null,
   "id": "5418df23",
   "metadata": {},
   "outputs": [],
   "source": [
    "class Item(BaseModel):\n",
    "    name: str\n",
    "    description: Union[str, None] = None\n",
    "    price: float\n",
    "    tax: Union[float, None] = None\n",
    "    tags: Set[str] = set()\n",
    "\n",
    "\n",
    "@app.post(\"/items/\", response_model=Item, tags=[\"items\"])\n",
    "async def create_item(item: Item):\n",
    "    return item\n",
    "\n",
    "\n",
    "@app.get(\"/items/\", tags=[\"items\"])\n",
    "async def read_items():\n",
    "    return [{\"name\": \"Foo\", \"price\": 42}]\n",
    "\n",
    "\n",
    "@app.get(\"/users/\", tags=[\"users\"])\n",
    "async def read_users():\n",
    "    return [{\"username\": \"johndoe\"}]"
   ]
  },
  {
   "cell_type": "markdown",
   "id": "66e29ccb",
   "metadata": {},
   "source": [
    "Markdown descriptions"
   ]
  },
  {
   "cell_type": "code",
   "execution_count": null,
   "id": "389d47e4",
   "metadata": {},
   "outputs": [],
   "source": [
    "@app.post(\"/items/\", response_model=Item, summary=\"Create an item\")\n",
    "async def create_item(item: Item):\n",
    "    \"\"\"\n",
    "    Create an item with all the information:\n",
    "\n",
    "    - **name**: each item must have a name\n",
    "    - **description**: a long description\n",
    "    - **price**: required\n",
    "    - **tax**: if the item doesn't have tax, you can omit this\n",
    "    - **tags**: a set of unique tag strings for this item\n",
    "    \"\"\"\n",
    "    return item"
   ]
  },
  {
   "cell_type": "markdown",
   "id": "50079303",
   "metadata": {},
   "source": [
    "Summary and description"
   ]
  },
  {
   "cell_type": "code",
   "execution_count": null,
   "id": "88e93320",
   "metadata": {},
   "outputs": [],
   "source": [
    "from typing import Set, Union\n",
    "\n",
    "from fastapi import FastAPI\n",
    "from pydantic import BaseModel\n",
    "\n",
    "app = FastAPI()\n",
    "\n",
    "\n",
    "class Item(BaseModel):\n",
    "    name: str\n",
    "    description: Union[str, None] = None\n",
    "    price: float\n",
    "    tax: Union[float, None] = None\n",
    "    tags: Set[str] = set()\n",
    "\n",
    "\n",
    "@app.post(\n",
    "    \"/items/\",\n",
    "    response_model=Item,\n",
    "    summary=\"Create an item\",\n",
    "    description=\"Create an item with all the information, name, description, price, tax and a set of unique tags\",\n",
    ")\n",
    "async def create_item(item: Item):\n",
    "    return item"
   ]
  },
  {
   "cell_type": "markdown",
   "id": "f8805f56",
   "metadata": {},
   "source": [
    "## Jsonable Encoder"
   ]
  },
  {
   "cell_type": "markdown",
   "id": "bc1fd286",
   "metadata": {},
   "source": [
    "Some data types cannot be changed to json. Like datetime, date, Pydantic Model, set."
   ]
  },
  {
   "cell_type": "code",
   "execution_count": null,
   "id": "0d381747",
   "metadata": {},
   "outputs": [],
   "source": [
    "from datetime import datetime\n",
    "class Item(BaseModel):\n",
    "    name: str\n",
    "    timestamp: datetime\n",
    "\n",
    "item = Item(name=\"Book\", timestamp=datetime.now())"
   ]
  },
  {
   "cell_type": "markdown",
   "id": "48329b04",
   "metadata": {},
   "source": [
    "    print(item)\n",
    "    name='Book' timestamp=datetime.datetime(2025, 10, 17, 15, 0, 0)\n",
    "    print(item.dict())\n",
    "    {'name': 'Book', 'timestamp': datetime.datetime(2025, 10, 17, 15, 0, 0)}\n"
   ]
  },
  {
   "cell_type": "code",
   "execution_count": null,
   "id": "5ba6ced6",
   "metadata": {},
   "outputs": [],
   "source": [
    "from fastapi.encoders import jsonable_encoder\n",
    "\n",
    "json_ready = jsonable_encoder(item)\n",
    "print(json_ready)"
   ]
  },
  {
   "cell_type": "markdown",
   "id": "a732d524",
   "metadata": {},
   "source": [
    "    {'name': 'Book', 'timestamp': '2025-10-17T15:00:00'}\n"
   ]
  },
  {
   "cell_type": "markdown",
   "id": "37b782b7",
   "metadata": {},
   "source": [
    "    @app.post(\"/store_result\")\n",
    "    def store_result(result: RAGResult):\n",
    "        data = jsonable_encoder(result)\n",
    "        db.insert(data)\n",
    "        return {\"message\": \"stored successfully\"}"
   ]
  },
  {
   "cell_type": "code",
   "execution_count": null,
   "id": "415c29d9",
   "metadata": {},
   "outputs": [],
   "source": [
    "from fastapi import FastAPI\n",
    "from fastapi.encoders import jsonable_encoder\n",
    "from pydantic import BaseModel\n",
    "\n",
    "app = FastAPI()\n",
    "\n",
    "\n",
    "class Item(BaseModel):\n",
    "    name: str | None = None\n",
    "    description: str | None = None\n",
    "    price: float | None = None\n",
    "    tax: float = 10.5\n",
    "    tags: list[str] = []\n",
    "\n",
    "\n",
    "items = {\n",
    "    \"foo\": {\"name\": \"Foo\", \"price\": 50.2},\n",
    "    \"bar\": {\"name\": \"Bar\", \"description\": \"The bartenders\", \"price\": 62, \"tax\": 20.2},\n",
    "    \"baz\": {\"name\": \"Baz\", \"description\": None, \"price\": 50.2, \"tax\": 10.5, \"tags\": []},\n",
    "}\n",
    "\n",
    "\n",
    "@app.get(\"/items/{item_id}\", response_model=Item)\n",
    "async def read_item(item_id: str):\n",
    "    return items[item_id]\n",
    "\n",
    "\n",
    "@app.patch(\"/items/{item_id}\", response_model=Item)\n",
    "async def update_item(item_id: str, item: Item):\n",
    "    stored_item_data = items[item_id]\n",
    "    stored_item_model = Item(**stored_item_data)\n",
    "    update_data = item.dict(exclude_unset=True)  # Aviod the part that is not passed becomes the default None\n",
    "    updated_item = stored_item_model.copy(update=update_data)\n",
    "    items[item_id] = jsonable_encoder(updated_item)\n",
    "    return updated_item"
   ]
  },
  {
   "cell_type": "markdown",
   "id": "13f406f2",
   "metadata": {},
   "source": [
    "## Dependencies"
   ]
  },
  {
   "cell_type": "markdown",
   "id": "245c2c86",
   "metadata": {},
   "source": [
    "Can be seen as a path function (@app.get...) without the decorator. It's designed to avoid duplicate parameters:\n",
    "\n",
    "    @app.get(\"/items/\")\n",
    "    async def read_items(q: str | None = None, skip: int = 0, limit: int = 100):\n",
    "        ...\n",
    "    @app.get(\"/users/\")\n",
    "    async def read_users(q: str | None = None, skip: int = 0, limit: int = 100):\n",
    "        ...\n"
   ]
  },
  {
   "cell_type": "code",
   "execution_count": 7,
   "id": "8b4811b7",
   "metadata": {},
   "outputs": [],
   "source": [
    "from typing import Annotated\n",
    "from fastapi import Depends, FastAPI\n",
    "\n",
    "app = FastAPI()\n",
    "\n",
    "\n",
    "async def common_parameters(q: str | None = None, skip: int = 0, limit: int = 100):\n",
    "    return {\"q\": q, \"skip\": skip, \"limit\": limit}\n",
    "\n",
    "\n",
    "@app.get(\"/items/\")\n",
    "async def read_items(commons: Annotated[dict, Depends(common_parameters)]):\n",
    "    return commons\n",
    "\n",
    "\n",
    "@app.get(\"/users/\")\n",
    "async def read_users(commons: Annotated[dict, Depends(common_parameters)]):\n",
    "    return commons"
   ]
  },
  {
   "cell_type": "code",
   "execution_count": null,
   "id": "2ac5744f",
   "metadata": {},
   "outputs": [],
   "source": [
    "from typing import Annotated\n",
    "\n",
    "from fastapi import Depends, FastAPI\n",
    "\n",
    "app = FastAPI()\n",
    "\n",
    "\n",
    "fake_items_db = [{\"item_name\": \"Foo\"}, {\"item_name\": \"Bar\"}, {\"item_name\": \"Baz\"}]\n",
    "\n",
    "\n",
    "class CommonQueryParams:\n",
    "    def __init__(self, q: str | None = None, skip: int = 0, limit: int = 100):\n",
    "        self.q = q\n",
    "        self.skip = skip\n",
    "        self.limit = limit\n",
    "\n",
    "\n",
    "@app.get(\"/items/\")\n",
    "async def read_items(commons: Annotated[CommonQueryParams, Depends()]): # It's okay to write this way\n",
    "    response = {}\n",
    "    if commons.q:\n",
    "        response.update({\"q\": commons.q})\n",
    "    items = fake_items_db[commons.skip : commons.skip + commons.limit]\n",
    "    response.update({\"items\": items})\n",
    "    return response"
   ]
  },
  {
   "cell_type": "markdown",
   "id": "b9eee5fa",
   "metadata": {},
   "source": [
    "Dependencies can be nested"
   ]
  },
  {
   "cell_type": "code",
   "execution_count": null,
   "id": "96539432",
   "metadata": {},
   "outputs": [],
   "source": [
    "from typing import Annotated\n",
    "\n",
    "from fastapi import Cookie, Depends, FastAPI\n",
    "\n",
    "app = FastAPI()\n",
    "\n",
    "\n",
    "def query_extractor(q: str | None = None):\n",
    "    return q\n",
    "\n",
    "\n",
    "def query_or_cookie_extractor(\n",
    "    q: Annotated[str, Depends(query_extractor)],\n",
    "    last_query: Annotated[str | None, Cookie()] = None,\n",
    "):\n",
    "    if not q:\n",
    "        return last_query\n",
    "    return q\n",
    "\n",
    "\n",
    "@app.get(\"/items/\")\n",
    "async def read_query(\n",
    "    query_or_default: Annotated[str, Depends(query_or_cookie_extractor)],\n",
    "):\n",
    "    return {\"q_or_cookie\": query_or_default}"
   ]
  },
  {
   "cell_type": "markdown",
   "id": "72c3cb8d",
   "metadata": {},
   "source": [
    "If necessary to use dynamic input, like random numbner,  one should \n",
    "\n",
    "    async def needy_dependency(fresh_value: str = Depends(get_value, use_cache=False)):\n",
    "        return {\"fresh_value\": fresh_value}"
   ]
  },
  {
   "cell_type": "code",
   "execution_count": null,
   "id": "81fb7a53",
   "metadata": {},
   "outputs": [],
   "source": [
    "from typing import Annotated\n",
    "\n",
    "from fastapi import Depends, FastAPI, Header, HTTPException\n",
    "\n",
    "app = FastAPI()\n",
    "\n",
    "\n",
    "async def verify_token(x_token: Annotated[str, Header()]):\n",
    "    if x_token != \"fake-super-secret-token\":\n",
    "        raise HTTPException(status_code=400, detail=\"X-Token header invalid\")\n",
    "\n",
    "\n",
    "async def verify_key(x_key: Annotated[str, Header()]):\n",
    "    if x_key != \"fake-super-secret-key\":\n",
    "        raise HTTPException(status_code=400, detail=\"X-Key header invalid\")\n",
    "    return x_key\n",
    "\n",
    "\n",
    "@app.get(\"/items/\", dependencies=[Depends(verify_token), Depends(verify_key)]) # Doesn't actually use any parameter. Merely execute the function\n",
    "async def read_items():\n",
    "    return [{\"item\": \"Foo\"}, {\"item\": \"Bar\"}]"
   ]
  },
  {
   "cell_type": "markdown",
   "id": "090b7429",
   "metadata": {},
   "source": [
    "There are two types of dependencies: **Functional** and **Side-Effect**. The first passes parameter while the second doesn't, and doesn't care about return.\n",
    "\n",
    "The dependencies can also be global: \n",
    "\n",
    "    app = FastAPI(dependencies=[Depends(verify_token), Depends(verify_key)])"
   ]
  },
  {
   "cell_type": "markdown",
   "id": "7eaa7520",
   "metadata": {},
   "source": [
    "## Yield\n",
    "\n",
    "Used to clear the resource after usage. E.g. database\n",
    "\n",
    "There will be processes after the output is obtained, like close db, save files."
   ]
  },
  {
   "cell_type": "markdown",
   "id": "05c7bb3a",
   "metadata": {},
   "source": [
    "    async def get_db():\n",
    "        db = DBSession()\n",
    "        try:\n",
    "            yield db\n",
    "        finally:\n",
    "            db.close()"
   ]
  },
  {
   "cell_type": "markdown",
   "id": "d587f015",
   "metadata": {},
   "source": [
    "Multiple yield: Open: a -> b -> c; Close: c -> b -> a"
   ]
  },
  {
   "cell_type": "markdown",
   "id": "c54025ae",
   "metadata": {},
   "source": [
    "    from typing import Annotated\n",
    "\n",
    "    from fastapi import Depends\n",
    "\n",
    "\n",
    "    async def dependency_a():\n",
    "        dep_a = generate_dep_a()\n",
    "        try:\n",
    "            yield dep_a\n",
    "        finally:\n",
    "            dep_a.close()\n",
    "\n",
    "\n",
    "    async def dependency_b(dep_a: Annotated[DepA, Depends(dependency_a)]):\n",
    "        dep_b = generate_dep_b()\n",
    "        try:\n",
    "            yield dep_b\n",
    "        finally:\n",
    "            dep_b.close(dep_a)\n",
    "\n",
    "\n",
    "    async def dependency_c(dep_b: Annotated[DepB, Depends(dependency_b)]):\n",
    "        dep_c = generate_dep_c()\n",
    "        try:\n",
    "            yield dep_c\n",
    "        finally:\n",
    "            dep_c.close(dep_b)"
   ]
  },
  {
   "cell_type": "code",
   "execution_count": null,
   "id": "866ebdb8",
   "metadata": {},
   "outputs": [],
   "source": []
  },
  {
   "cell_type": "code",
   "execution_count": null,
   "id": "15810bc6",
   "metadata": {},
   "outputs": [],
   "source": []
  },
  {
   "cell_type": "code",
   "execution_count": null,
   "id": "27887b46",
   "metadata": {},
   "outputs": [],
   "source": []
  }
 ],
 "metadata": {
  "kernelspec": {
   "display_name": "rag-env",
   "language": "python",
   "name": "python3"
  },
  "language_info": {
   "codemirror_mode": {
    "name": "ipython",
    "version": 3
   },
   "file_extension": ".py",
   "mimetype": "text/x-python",
   "name": "python",
   "nbconvert_exporter": "python",
   "pygments_lexer": "ipython3",
   "version": "3.11.13"
  }
 },
 "nbformat": 4,
 "nbformat_minor": 5
}
