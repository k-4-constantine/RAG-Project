{
 "cells": [
  {
   "cell_type": "markdown",
   "id": "c28adf90",
   "metadata": {},
   "source": [
    "# Type Hinting"
   ]
  },
  {
   "cell_type": "code",
   "execution_count": null,
   "id": "f061e7b8",
   "metadata": {},
   "outputs": [],
   "source": [
    "def get_full_name(first_name, last_name:str):\n",
    "    full_name = first_name.title() + \" \" + last_name\n",
    "    return full_name\n",
    "\n",
    "print(get_full_name(\"john\", \"doe\"))"
   ]
  },
  {
   "cell_type": "markdown",
   "id": "d51fc825",
   "metadata": {},
   "source": [
    "Type hinting enables suggesttions. For example:\n",
    "\n",
    "full_name = frist_name.sth\n",
    "\n",
    "There will be a list of options"
   ]
  },
  {
   "cell_type": "markdown",
   "id": "6404c833",
   "metadata": {},
   "source": [
    "# FastAPI"
   ]
  },
  {
   "cell_type": "code",
   "execution_count": null,
   "id": "b1533ba3",
   "metadata": {},
   "outputs": [],
   "source": [
    "from enum import Enum\n",
    "\n",
    "from fastapi import FastAPI\n",
    "\n",
    "\n",
    "class ModelName(str, Enum):\n",
    "    alexnet = \"alexnet\"\n",
    "    resnet = \"resnet\"\n",
    "    lenet = \"lenet\"\n",
    "\n",
    "\n",
    "app = FastAPI()\n",
    "\n",
    "\n",
    "@app.get(\"/models/{model_name}\")\n",
    "async def get_model(model_name: ModelName):\n",
    "    if model_name is ModelName.alexnet:\n",
    "        return {\"model_name\": model_name, \"message\": \"Deep Learning FTW!\"}\n",
    "\n",
    "    if model_name.value == \"lenet\":\n",
    "        return {\"model_name\": model_name, \"message\": \"LeCNN all the images\"}\n",
    "\n",
    "    return {\"model_name\": model_name, \"message\": \"Have some residuals\"}"
   ]
  },
  {
   "cell_type": "markdown",
   "id": "94812838",
   "metadata": {},
   "source": [
    "access /models/alexnet -> get \"Deep Learning FTW!\"\n",
    "\n",
    "access /models/lenet -> get \"LeCNN all the images\"\n",
    "\n",
    "access /models/resnet -> get \"Have some residuals\""
   ]
  },
  {
   "cell_type": "markdown",
   "id": "3914530a",
   "metadata": {},
   "source": [
    "## Inheritance"
   ]
  },
  {
   "cell_type": "code",
   "execution_count": 1,
   "id": "1d7fdbd2",
   "metadata": {},
   "outputs": [
    {
     "name": "stdout",
     "output_type": "stream",
     "text": [
      "Some sound\n"
     ]
    }
   ],
   "source": [
    "class Animal:\n",
    "    def speak(self):\n",
    "        print(\"Some sound\")\n",
    "\n",
    "class Dog(Animal):\n",
    "    pass\n",
    "\n",
    "dog = Dog()\n",
    "dog.speak()"
   ]
  },
  {
   "cell_type": "markdown",
   "id": "7484b998",
   "metadata": {},
   "source": [
    "## Enum"
   ]
  },
  {
   "cell_type": "code",
   "execution_count": null,
   "id": "c405c62e",
   "metadata": {},
   "outputs": [],
   "source": [
    "class ModelName(str, Enum):\n",
    "    alexnet = \"alexnet\"\n",
    "    resnet = \"resnet\"\n",
    "    lenet = \"lenet\"\n",
    "\n",
    "print(ModelName.alexnet)          # ModelName.alexnet\n",
    "print(ModelName.alexnet.value)    # alexnet"
   ]
  },
  {
   "cell_type": "markdown",
   "id": "bdd81163",
   "metadata": {},
   "source": [
    "## Parameters"
   ]
  },
  {
   "cell_type": "markdown",
   "id": "e2c71961",
   "metadata": {},
   "source": [
    "If more than 1 layer, use\n",
    "\n",
    ":path"
   ]
  },
  {
   "cell_type": "code",
   "execution_count": null,
   "id": "8a6bced9",
   "metadata": {},
   "outputs": [],
   "source": [
    "@app.get(\"/files/{file_path}\")\n",
    "async def read_file(file_path: str):\n",
    "    return {\"file_path\": file_path}"
   ]
  },
  {
   "cell_type": "markdown",
   "id": "4355df4e",
   "metadata": {},
   "source": [
    "/files/hello.txt                    -> Can access\n",
    "/files/home/johndoe/myfile/txt      -> Cannot access"
   ]
  },
  {
   "cell_type": "code",
   "execution_count": null,
   "id": "17de2e3f",
   "metadata": {},
   "outputs": [],
   "source": [
    "@app.get(\"/files/{file_path:path}\")\n",
    "async def read_file(file_path: str):\n",
    "    return {\"file_path\": file_path}"
   ]
  },
  {
   "cell_type": "markdown",
   "id": "0170f0ba",
   "metadata": {},
   "source": [
    "请求路径\t                             匹配结果\n",
    "\n",
    "/files/hello.txt\t                    file_path = \"hello.txt\"\n",
    "\n",
    "/files/home/johndoe/myfile.txt\t        file_path = \"home/johndoe/myfile.txt\""
   ]
  },
  {
   "cell_type": "code",
   "execution_count": null,
   "id": "cd2399a2",
   "metadata": {},
   "outputs": [],
   "source": [
    "@app.get(\"/items/{item_id}\")\n",
    "async def read_item(item_id: str, p: str, q: str | None = None):\n",
    "    if q:\n",
    "        return {\"item_id\": item_id, \"q\": q, \"p\": p}\n",
    "    return {\"item_id\": item_id, \"p\": p}"
   ]
  },
  {
   "cell_type": "markdown",
   "id": "7208d4d8",
   "metadata": {},
   "source": [
    "item_id is a **path parameter**, since it's in {}: \n",
    "\n",
    "/items/apple\n",
    "\n",
    "/items/123\n",
    "\n",
    "/items/xyz\n",
    "\n",
    "q is a **query parameter**:\n",
    "\n",
    "/items/apple?q=hello&p=hola\n",
    "\n",
    "Here, q is optional and p is not. Optional parameters must come after non-optional ones. \n"
   ]
  },
  {
   "cell_type": "markdown",
   "id": "574aa000",
   "metadata": {},
   "source": [
    "## Request Body 请求体"
   ]
  },
  {
   "cell_type": "code",
   "execution_count": null,
   "id": "ab2df173",
   "metadata": {},
   "outputs": [],
   "source": [
    "from fastapi import FastAPI\n",
    "from pydantic import BaseModel # Verify input structure\n",
    "\n",
    "\n",
    "class Item(BaseModel):\n",
    "    name: str\n",
    "    description: str | None = None\n",
    "    price: float\n",
    "    tax: float | None = None\n",
    "\n",
    "\n",
    "app = FastAPI()\n",
    "\n",
    "\n",
    "@app.post(\"/items/\")\n",
    "async def create_item(item: Item):\n",
    "    return item"
   ]
  },
  {
   "cell_type": "markdown",
   "id": "40abdfe4",
   "metadata": {},
   "source": [
    "请求体的作用\n",
    "\n",
    "1. 传递复杂数据结构\n",
    "\n",
    "    JSON 可以表示嵌套对象、列表、字典，非常灵活。\n",
    "\n",
    "    Pydantic 模型 Product 自动验证类型、必填字段、默认值。\n",
    "\n",
    "2. 清晰的 API 语义\n",
    "\n",
    "    路径参数 → 哪个资源\n",
    "\n",
    "    请求体 → 更新后的内容\n",
    "\n",
    "    查询参数 → 控制或可选参数\n",
    "\n",
    "3. 安全性与扩展性\n",
    "\n",
    "    可以加密或签名 JSON\n",
    "\n",
    "    可以随时扩展字段而不破坏 API"
   ]
  },
  {
   "cell_type": "markdown",
   "id": "65e89d0d",
   "metadata": {},
   "source": [
    "## Extra Verification"
   ]
  },
  {
   "cell_type": "markdown",
   "id": "b48cf992",
   "metadata": {},
   "source": [
    "### Query Parameters"
   ]
  },
  {
   "cell_type": "code",
   "execution_count": null,
   "id": "a6220852",
   "metadata": {},
   "outputs": [],
   "source": [
    "from typing import Annotated\n",
    "\n",
    "from fastapi import FastAPI, Query\n",
    "\n",
    "app = FastAPI()\n",
    "\n",
    "\n",
    "@app.get(\"/items/\")\n",
    "async def read_items(\n",
    "    q: Annotated[\n",
    "        str | None, Query(min_length=3, max_length=50, pattern=\"^fixedquery$\")\n",
    "    ] = None,\n",
    "):\n",
    "    results = {\"items\": [{\"item_id\": \"Foo\"}, {\"item_id\": \"Bar\"}]}\n",
    "    if q:\n",
    "        results.update({\"q\": q})\n",
    "    return results"
   ]
  },
  {
   "cell_type": "markdown",
   "id": "f3b0249a",
   "metadata": {},
   "source": [
    "The input can be a list. \n",
    "\n",
    "http://localhost:8000/items/?q=foo&q=bar"
   ]
  },
  {
   "cell_type": "code",
   "execution_count": null,
   "id": "56f465d9",
   "metadata": {},
   "outputs": [],
   "source": [
    "from typing import Annotated\n",
    "\n",
    "from fastapi import FastAPI, Query\n",
    "\n",
    "app = FastAPI()\n",
    "\n",
    "\n",
    "@app.get(\"/items/\")\n",
    "async def read_items(q: Annotated[list[str] | None, Query()] = None):\n",
    "    query_items = {\"q\": q}\n",
    "    return query_items"
   ]
  },
  {
   "cell_type": "markdown",
   "id": "0fa7b516",
   "metadata": {},
   "source": [
    "If the query parameter is not a valid python variable, e.g. item-query\n",
    "\n",
    "Use alias"
   ]
  },
  {
   "cell_type": "code",
   "execution_count": null,
   "id": "ad00c7b2",
   "metadata": {},
   "outputs": [],
   "source": [
    "@app.get(\"/items/\")\n",
    "async def read_items(q: Annotated[str | None, Query(alias=\"item-query\")] = None):\n",
    "    results = {\"items\": [{\"item_id\": \"Foo\"}, {\"item_id\": \"Bar\"}]}\n",
    "    if q:\n",
    "        results.update({\"q\": q})\n",
    "    return results"
   ]
  },
  {
   "cell_type": "markdown",
   "id": "cc4330e2",
   "metadata": {},
   "source": [
    "### Path Parameters:"
   ]
  },
  {
   "cell_type": "code",
   "execution_count": null,
   "id": "a59f5834",
   "metadata": {},
   "outputs": [],
   "source": [
    "from typing import Annotated\n",
    "\n",
    "from fastapi import FastAPI, Path, Query\n",
    "\n",
    "app = FastAPI()\n",
    "\n",
    "\n",
    "@app.get(\"/items/{item_id}\")\n",
    "async def read_items(\n",
    "    item_id: Annotated[int, Path(title=\"The ID of the item to get\")],\n",
    "    q: Annotated[str | None, Query(alias=\"item-query\")] = None,\n",
    "):\n",
    "    results = {\"item_id\": item_id}\n",
    "    if q:\n",
    "        results.update({\"q\": q})\n",
    "    return results"
   ]
  },
  {
   "cell_type": "markdown",
   "id": "8243ecb0",
   "metadata": {},
   "source": [
    "Unlike query parameters, path parameters are always non-optional"
   ]
  },
  {
   "cell_type": "code",
   "execution_count": null,
   "id": "49f8a898",
   "metadata": {},
   "outputs": [],
   "source": [
    "def f(*, b, a): # After * key-word only\n",
    "    ...\n",
    "f(a=1, b=2)  # OK，顺序可调\n",
    "f(1, 2)      # ❌ 错误"
   ]
  },
  {
   "cell_type": "code",
   "execution_count": null,
   "id": "c02ca6f7",
   "metadata": {},
   "outputs": [],
   "source": [
    "async def read_items(\n",
    "    *, q: str, item_id: int\n",
    "):\n",
    "    ..."
   ]
  },
  {
   "cell_type": "markdown",
   "id": "2e60e8c7",
   "metadata": {},
   "source": [
    "Use * such that the order doesn't matter and all parameters must be passed with key-words"
   ]
  },
  {
   "cell_type": "markdown",
   "id": "22e34f3f",
   "metadata": {},
   "source": [
    "**Comparison**\n",
    "\n",
    "gt: greater than\n",
    "\n",
    "le: less than or equal"
   ]
  },
  {
   "cell_type": "code",
   "execution_count": null,
   "id": "0bbb5174",
   "metadata": {},
   "outputs": [],
   "source": [
    "@app.get(\"/items/{item_id}\")\n",
    "async def read_items(\n",
    "    item_id: Annotated[int, Path(title=\"The ID of the item to get\", ge=1)], q: str\n",
    "):\n",
    "    results = {\"item_id\": item_id}\n",
    "    if q:\n",
    "        results.update({\"q\": q})\n",
    "    return results"
   ]
  }
 ],
 "metadata": {
  "kernelspec": {
   "display_name": "rag-env",
   "language": "python",
   "name": "python3"
  },
  "language_info": {
   "codemirror_mode": {
    "name": "ipython",
    "version": 3
   },
   "file_extension": ".py",
   "mimetype": "text/x-python",
   "name": "python",
   "nbconvert_exporter": "python",
   "pygments_lexer": "ipython3",
   "version": "3.11.13"
  }
 },
 "nbformat": 4,
 "nbformat_minor": 5
}
